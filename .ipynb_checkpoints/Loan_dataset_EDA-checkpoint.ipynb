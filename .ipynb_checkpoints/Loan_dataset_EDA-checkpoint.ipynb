{
 "cells": [
  {
   "cell_type": "markdown",
   "id": "f520b7d1",
   "metadata": {},
   "source": [
    "### Import required libraries"
   ]
  },
  {
   "cell_type": "code",
   "execution_count": 1,
   "id": "ee595410",
   "metadata": {},
   "outputs": [],
   "source": [
    "import numpy as np\n",
    "import pandas as pd\n",
    "import matplotlib.pyplot as plt\n",
    "%matplotlib inline\n",
    "import seaborn as sns\n",
    "from datetime import datetime\n",
    "import missingno as msno"
   ]
  },
  {
   "cell_type": "markdown",
   "id": "bbdff39d",
   "metadata": {},
   "source": [
    "### Loading loan dataset to pandas"
   ]
  },
  {
   "cell_type": "code",
   "execution_count": 2,
   "id": "3151f84d",
   "metadata": {},
   "outputs": [
    {
     "name": "stderr",
     "output_type": "stream",
     "text": [
      "C:\\Users\\gtpra\\AppData\\Local\\Temp\\ipykernel_24804\\3840341585.py:1: DtypeWarning: Columns (47) have mixed types. Specify dtype option on import or set low_memory=False.\n",
      "  data = pd.read_csv('loan.csv', index_col=0)\n"
     ]
    },
    {
     "data": {
      "text/html": [
       "<div>\n",
       "<style scoped>\n",
       "    .dataframe tbody tr th:only-of-type {\n",
       "        vertical-align: middle;\n",
       "    }\n",
       "\n",
       "    .dataframe tbody tr th {\n",
       "        vertical-align: top;\n",
       "    }\n",
       "\n",
       "    .dataframe thead th {\n",
       "        text-align: right;\n",
       "    }\n",
       "</style>\n",
       "<table border=\"1\" class=\"dataframe\">\n",
       "  <thead>\n",
       "    <tr style=\"text-align: right;\">\n",
       "      <th></th>\n",
       "      <th>member_id</th>\n",
       "      <th>loan_amnt</th>\n",
       "      <th>funded_amnt</th>\n",
       "      <th>funded_amnt_inv</th>\n",
       "      <th>term</th>\n",
       "      <th>int_rate</th>\n",
       "      <th>installment</th>\n",
       "      <th>grade</th>\n",
       "      <th>sub_grade</th>\n",
       "      <th>emp_title</th>\n",
       "      <th>...</th>\n",
       "      <th>num_tl_90g_dpd_24m</th>\n",
       "      <th>num_tl_op_past_12m</th>\n",
       "      <th>pct_tl_nvr_dlq</th>\n",
       "      <th>percent_bc_gt_75</th>\n",
       "      <th>pub_rec_bankruptcies</th>\n",
       "      <th>tax_liens</th>\n",
       "      <th>tot_hi_cred_lim</th>\n",
       "      <th>total_bal_ex_mort</th>\n",
       "      <th>total_bc_limit</th>\n",
       "      <th>total_il_high_credit_limit</th>\n",
       "    </tr>\n",
       "    <tr>\n",
       "      <th>id</th>\n",
       "      <th></th>\n",
       "      <th></th>\n",
       "      <th></th>\n",
       "      <th></th>\n",
       "      <th></th>\n",
       "      <th></th>\n",
       "      <th></th>\n",
       "      <th></th>\n",
       "      <th></th>\n",
       "      <th></th>\n",
       "      <th></th>\n",
       "      <th></th>\n",
       "      <th></th>\n",
       "      <th></th>\n",
       "      <th></th>\n",
       "      <th></th>\n",
       "      <th></th>\n",
       "      <th></th>\n",
       "      <th></th>\n",
       "      <th></th>\n",
       "      <th></th>\n",
       "    </tr>\n",
       "  </thead>\n",
       "  <tbody>\n",
       "    <tr>\n",
       "      <th>1077501</th>\n",
       "      <td>1296599</td>\n",
       "      <td>5000</td>\n",
       "      <td>5000</td>\n",
       "      <td>4975.0</td>\n",
       "      <td>36 months</td>\n",
       "      <td>10.65%</td>\n",
       "      <td>162.87</td>\n",
       "      <td>B</td>\n",
       "      <td>B2</td>\n",
       "      <td>NaN</td>\n",
       "      <td>...</td>\n",
       "      <td>NaN</td>\n",
       "      <td>NaN</td>\n",
       "      <td>NaN</td>\n",
       "      <td>NaN</td>\n",
       "      <td>0.0</td>\n",
       "      <td>0.0</td>\n",
       "      <td>NaN</td>\n",
       "      <td>NaN</td>\n",
       "      <td>NaN</td>\n",
       "      <td>NaN</td>\n",
       "    </tr>\n",
       "    <tr>\n",
       "      <th>1077430</th>\n",
       "      <td>1314167</td>\n",
       "      <td>2500</td>\n",
       "      <td>2500</td>\n",
       "      <td>2500.0</td>\n",
       "      <td>60 months</td>\n",
       "      <td>15.27%</td>\n",
       "      <td>59.83</td>\n",
       "      <td>C</td>\n",
       "      <td>C4</td>\n",
       "      <td>Ryder</td>\n",
       "      <td>...</td>\n",
       "      <td>NaN</td>\n",
       "      <td>NaN</td>\n",
       "      <td>NaN</td>\n",
       "      <td>NaN</td>\n",
       "      <td>0.0</td>\n",
       "      <td>0.0</td>\n",
       "      <td>NaN</td>\n",
       "      <td>NaN</td>\n",
       "      <td>NaN</td>\n",
       "      <td>NaN</td>\n",
       "    </tr>\n",
       "    <tr>\n",
       "      <th>1077175</th>\n",
       "      <td>1313524</td>\n",
       "      <td>2400</td>\n",
       "      <td>2400</td>\n",
       "      <td>2400.0</td>\n",
       "      <td>36 months</td>\n",
       "      <td>15.96%</td>\n",
       "      <td>84.33</td>\n",
       "      <td>C</td>\n",
       "      <td>C5</td>\n",
       "      <td>NaN</td>\n",
       "      <td>...</td>\n",
       "      <td>NaN</td>\n",
       "      <td>NaN</td>\n",
       "      <td>NaN</td>\n",
       "      <td>NaN</td>\n",
       "      <td>0.0</td>\n",
       "      <td>0.0</td>\n",
       "      <td>NaN</td>\n",
       "      <td>NaN</td>\n",
       "      <td>NaN</td>\n",
       "      <td>NaN</td>\n",
       "    </tr>\n",
       "    <tr>\n",
       "      <th>1076863</th>\n",
       "      <td>1277178</td>\n",
       "      <td>10000</td>\n",
       "      <td>10000</td>\n",
       "      <td>10000.0</td>\n",
       "      <td>36 months</td>\n",
       "      <td>13.49%</td>\n",
       "      <td>339.31</td>\n",
       "      <td>C</td>\n",
       "      <td>C1</td>\n",
       "      <td>AIR RESOURCES BOARD</td>\n",
       "      <td>...</td>\n",
       "      <td>NaN</td>\n",
       "      <td>NaN</td>\n",
       "      <td>NaN</td>\n",
       "      <td>NaN</td>\n",
       "      <td>0.0</td>\n",
       "      <td>0.0</td>\n",
       "      <td>NaN</td>\n",
       "      <td>NaN</td>\n",
       "      <td>NaN</td>\n",
       "      <td>NaN</td>\n",
       "    </tr>\n",
       "    <tr>\n",
       "      <th>1075358</th>\n",
       "      <td>1311748</td>\n",
       "      <td>3000</td>\n",
       "      <td>3000</td>\n",
       "      <td>3000.0</td>\n",
       "      <td>60 months</td>\n",
       "      <td>12.69%</td>\n",
       "      <td>67.79</td>\n",
       "      <td>B</td>\n",
       "      <td>B5</td>\n",
       "      <td>University Medical Group</td>\n",
       "      <td>...</td>\n",
       "      <td>NaN</td>\n",
       "      <td>NaN</td>\n",
       "      <td>NaN</td>\n",
       "      <td>NaN</td>\n",
       "      <td>0.0</td>\n",
       "      <td>0.0</td>\n",
       "      <td>NaN</td>\n",
       "      <td>NaN</td>\n",
       "      <td>NaN</td>\n",
       "      <td>NaN</td>\n",
       "    </tr>\n",
       "    <tr>\n",
       "      <th>...</th>\n",
       "      <td>...</td>\n",
       "      <td>...</td>\n",
       "      <td>...</td>\n",
       "      <td>...</td>\n",
       "      <td>...</td>\n",
       "      <td>...</td>\n",
       "      <td>...</td>\n",
       "      <td>...</td>\n",
       "      <td>...</td>\n",
       "      <td>...</td>\n",
       "      <td>...</td>\n",
       "      <td>...</td>\n",
       "      <td>...</td>\n",
       "      <td>...</td>\n",
       "      <td>...</td>\n",
       "      <td>...</td>\n",
       "      <td>...</td>\n",
       "      <td>...</td>\n",
       "      <td>...</td>\n",
       "      <td>...</td>\n",
       "      <td>...</td>\n",
       "    </tr>\n",
       "    <tr>\n",
       "      <th>92187</th>\n",
       "      <td>92174</td>\n",
       "      <td>2500</td>\n",
       "      <td>2500</td>\n",
       "      <td>1075.0</td>\n",
       "      <td>36 months</td>\n",
       "      <td>8.07%</td>\n",
       "      <td>78.42</td>\n",
       "      <td>A</td>\n",
       "      <td>A4</td>\n",
       "      <td>FiSite Research</td>\n",
       "      <td>...</td>\n",
       "      <td>NaN</td>\n",
       "      <td>NaN</td>\n",
       "      <td>NaN</td>\n",
       "      <td>NaN</td>\n",
       "      <td>NaN</td>\n",
       "      <td>NaN</td>\n",
       "      <td>NaN</td>\n",
       "      <td>NaN</td>\n",
       "      <td>NaN</td>\n",
       "      <td>NaN</td>\n",
       "    </tr>\n",
       "    <tr>\n",
       "      <th>90665</th>\n",
       "      <td>90607</td>\n",
       "      <td>8500</td>\n",
       "      <td>8500</td>\n",
       "      <td>875.0</td>\n",
       "      <td>36 months</td>\n",
       "      <td>10.28%</td>\n",
       "      <td>275.38</td>\n",
       "      <td>C</td>\n",
       "      <td>C1</td>\n",
       "      <td>Squarewave Solutions, Ltd.</td>\n",
       "      <td>...</td>\n",
       "      <td>NaN</td>\n",
       "      <td>NaN</td>\n",
       "      <td>NaN</td>\n",
       "      <td>NaN</td>\n",
       "      <td>NaN</td>\n",
       "      <td>NaN</td>\n",
       "      <td>NaN</td>\n",
       "      <td>NaN</td>\n",
       "      <td>NaN</td>\n",
       "      <td>NaN</td>\n",
       "    </tr>\n",
       "    <tr>\n",
       "      <th>90395</th>\n",
       "      <td>90390</td>\n",
       "      <td>5000</td>\n",
       "      <td>5000</td>\n",
       "      <td>1325.0</td>\n",
       "      <td>36 months</td>\n",
       "      <td>8.07%</td>\n",
       "      <td>156.84</td>\n",
       "      <td>A</td>\n",
       "      <td>A4</td>\n",
       "      <td>NaN</td>\n",
       "      <td>...</td>\n",
       "      <td>NaN</td>\n",
       "      <td>NaN</td>\n",
       "      <td>NaN</td>\n",
       "      <td>NaN</td>\n",
       "      <td>NaN</td>\n",
       "      <td>NaN</td>\n",
       "      <td>NaN</td>\n",
       "      <td>NaN</td>\n",
       "      <td>NaN</td>\n",
       "      <td>NaN</td>\n",
       "    </tr>\n",
       "    <tr>\n",
       "      <th>90376</th>\n",
       "      <td>89243</td>\n",
       "      <td>5000</td>\n",
       "      <td>5000</td>\n",
       "      <td>650.0</td>\n",
       "      <td>36 months</td>\n",
       "      <td>7.43%</td>\n",
       "      <td>155.38</td>\n",
       "      <td>A</td>\n",
       "      <td>A2</td>\n",
       "      <td>NaN</td>\n",
       "      <td>...</td>\n",
       "      <td>NaN</td>\n",
       "      <td>NaN</td>\n",
       "      <td>NaN</td>\n",
       "      <td>NaN</td>\n",
       "      <td>NaN</td>\n",
       "      <td>NaN</td>\n",
       "      <td>NaN</td>\n",
       "      <td>NaN</td>\n",
       "      <td>NaN</td>\n",
       "      <td>NaN</td>\n",
       "    </tr>\n",
       "    <tr>\n",
       "      <th>87023</th>\n",
       "      <td>86999</td>\n",
       "      <td>7500</td>\n",
       "      <td>7500</td>\n",
       "      <td>800.0</td>\n",
       "      <td>36 months</td>\n",
       "      <td>13.75%</td>\n",
       "      <td>255.43</td>\n",
       "      <td>E</td>\n",
       "      <td>E2</td>\n",
       "      <td>Evergreen Center</td>\n",
       "      <td>...</td>\n",
       "      <td>NaN</td>\n",
       "      <td>NaN</td>\n",
       "      <td>NaN</td>\n",
       "      <td>NaN</td>\n",
       "      <td>NaN</td>\n",
       "      <td>NaN</td>\n",
       "      <td>NaN</td>\n",
       "      <td>NaN</td>\n",
       "      <td>NaN</td>\n",
       "      <td>NaN</td>\n",
       "    </tr>\n",
       "  </tbody>\n",
       "</table>\n",
       "<p>39717 rows × 110 columns</p>\n",
       "</div>"
      ],
      "text/plain": [
       "         member_id  loan_amnt  funded_amnt  funded_amnt_inv        term  \\\n",
       "id                                                                        \n",
       "1077501    1296599       5000         5000           4975.0   36 months   \n",
       "1077430    1314167       2500         2500           2500.0   60 months   \n",
       "1077175    1313524       2400         2400           2400.0   36 months   \n",
       "1076863    1277178      10000        10000          10000.0   36 months   \n",
       "1075358    1311748       3000         3000           3000.0   60 months   \n",
       "...            ...        ...          ...              ...         ...   \n",
       "92187        92174       2500         2500           1075.0   36 months   \n",
       "90665        90607       8500         8500            875.0   36 months   \n",
       "90395        90390       5000         5000           1325.0   36 months   \n",
       "90376        89243       5000         5000            650.0   36 months   \n",
       "87023        86999       7500         7500            800.0   36 months   \n",
       "\n",
       "        int_rate  installment grade sub_grade                   emp_title  \\\n",
       "id                                                                          \n",
       "1077501   10.65%       162.87     B        B2                         NaN   \n",
       "1077430   15.27%        59.83     C        C4                       Ryder   \n",
       "1077175   15.96%        84.33     C        C5                         NaN   \n",
       "1076863   13.49%       339.31     C        C1         AIR RESOURCES BOARD   \n",
       "1075358   12.69%        67.79     B        B5    University Medical Group   \n",
       "...          ...          ...   ...       ...                         ...   \n",
       "92187      8.07%        78.42     A        A4             FiSite Research   \n",
       "90665     10.28%       275.38     C        C1  Squarewave Solutions, Ltd.   \n",
       "90395      8.07%       156.84     A        A4                         NaN   \n",
       "90376      7.43%       155.38     A        A2                         NaN   \n",
       "87023     13.75%       255.43     E        E2            Evergreen Center   \n",
       "\n",
       "         ... num_tl_90g_dpd_24m num_tl_op_past_12m  pct_tl_nvr_dlq  \\\n",
       "id       ...                                                         \n",
       "1077501  ...                NaN                NaN             NaN   \n",
       "1077430  ...                NaN                NaN             NaN   \n",
       "1077175  ...                NaN                NaN             NaN   \n",
       "1076863  ...                NaN                NaN             NaN   \n",
       "1075358  ...                NaN                NaN             NaN   \n",
       "...      ...                ...                ...             ...   \n",
       "92187    ...                NaN                NaN             NaN   \n",
       "90665    ...                NaN                NaN             NaN   \n",
       "90395    ...                NaN                NaN             NaN   \n",
       "90376    ...                NaN                NaN             NaN   \n",
       "87023    ...                NaN                NaN             NaN   \n",
       "\n",
       "        percent_bc_gt_75 pub_rec_bankruptcies tax_liens tot_hi_cred_lim  \\\n",
       "id                                                                        \n",
       "1077501              NaN                  0.0       0.0             NaN   \n",
       "1077430              NaN                  0.0       0.0             NaN   \n",
       "1077175              NaN                  0.0       0.0             NaN   \n",
       "1076863              NaN                  0.0       0.0             NaN   \n",
       "1075358              NaN                  0.0       0.0             NaN   \n",
       "...                  ...                  ...       ...             ...   \n",
       "92187                NaN                  NaN       NaN             NaN   \n",
       "90665                NaN                  NaN       NaN             NaN   \n",
       "90395                NaN                  NaN       NaN             NaN   \n",
       "90376                NaN                  NaN       NaN             NaN   \n",
       "87023                NaN                  NaN       NaN             NaN   \n",
       "\n",
       "        total_bal_ex_mort total_bc_limit total_il_high_credit_limit  \n",
       "id                                                                   \n",
       "1077501               NaN            NaN                        NaN  \n",
       "1077430               NaN            NaN                        NaN  \n",
       "1077175               NaN            NaN                        NaN  \n",
       "1076863               NaN            NaN                        NaN  \n",
       "1075358               NaN            NaN                        NaN  \n",
       "...                   ...            ...                        ...  \n",
       "92187                 NaN            NaN                        NaN  \n",
       "90665                 NaN            NaN                        NaN  \n",
       "90395                 NaN            NaN                        NaN  \n",
       "90376                 NaN            NaN                        NaN  \n",
       "87023                 NaN            NaN                        NaN  \n",
       "\n",
       "[39717 rows x 110 columns]"
      ]
     },
     "execution_count": 2,
     "metadata": {},
     "output_type": "execute_result"
    }
   ],
   "source": [
    "data = pd.read_csv('loan.csv', index_col=0)\n",
    "data"
   ]
  },
  {
   "cell_type": "markdown",
   "id": "c5d261c2",
   "metadata": {},
   "source": [
    "### There is a Dtypewarning on column 47 lets see what is it"
   ]
  },
  {
   "cell_type": "code",
   "execution_count": 3,
   "id": "d68d1e18",
   "metadata": {},
   "outputs": [
    {
     "data": {
      "text/plain": [
       "id\n",
       "1077501       NaN\n",
       "1077430       NaN\n",
       "1077175       NaN\n",
       "1076863       NaN\n",
       "1075358    Jun-16\n",
       "Name: next_pymnt_d, dtype: object"
      ]
     },
     "execution_count": 3,
     "metadata": {},
     "output_type": "execute_result"
    }
   ],
   "source": [
    "data.iloc[:, 46].head()"
   ]
  },
  {
   "cell_type": "code",
   "execution_count": 4,
   "id": "02b4b93a",
   "metadata": {},
   "outputs": [
    {
     "data": {
      "text/plain": [
       "Jun-16    1125\n",
       "Jul-16      15\n",
       "Name: next_pymnt_d, dtype: int64"
      ]
     },
     "execution_count": 4,
     "metadata": {},
     "output_type": "execute_result"
    }
   ],
   "source": [
    "data.iloc[:, 46].value_counts()"
   ]
  },
  {
   "cell_type": "code",
   "execution_count": 5,
   "id": "457afec0",
   "metadata": {},
   "outputs": [
    {
     "data": {
      "text/plain": [
       "member_id                         0\n",
       "loan_amnt                         0\n",
       "funded_amnt                       0\n",
       "funded_amnt_inv                   0\n",
       "term                              0\n",
       "                              ...  \n",
       "tax_liens                        39\n",
       "tot_hi_cred_lim               39717\n",
       "total_bal_ex_mort             39717\n",
       "total_bc_limit                39717\n",
       "total_il_high_credit_limit    39717\n",
       "Length: 110, dtype: int64"
      ]
     },
     "execution_count": 5,
     "metadata": {},
     "output_type": "execute_result"
    }
   ],
   "source": [
    "data.isna().sum()"
   ]
  },
  {
   "cell_type": "code",
   "execution_count": 6,
   "id": "2d0c6acb",
   "metadata": {},
   "outputs": [
    {
     "data": {
      "text/plain": [
       "False    56\n",
       "True     54\n",
       "dtype: int64"
      ]
     },
     "execution_count": 6,
     "metadata": {},
     "output_type": "execute_result"
    }
   ],
   "source": [
    "(data.isna().sum()==39717).value_counts()"
   ]
  },
  {
   "cell_type": "markdown",
   "id": "33710b5b",
   "metadata": {},
   "source": [
    "### So there are 54 columns with all missing values, Lets drop them!"
   ]
  },
  {
   "cell_type": "code",
   "execution_count": 7,
   "id": "a27cd76e",
   "metadata": {},
   "outputs": [],
   "source": [
    "data.dropna(axis=1, how='all', inplace=True)"
   ]
  },
  {
   "cell_type": "code",
   "execution_count": 8,
   "id": "97f107a6",
   "metadata": {},
   "outputs": [
    {
     "data": {
      "text/plain": [
       "(39717, 56)"
      ]
     },
     "execution_count": 8,
     "metadata": {},
     "output_type": "execute_result"
    }
   ],
   "source": [
    "data.shape"
   ]
  },
  {
   "cell_type": "markdown",
   "id": "23fe9d13",
   "metadata": {},
   "source": [
    "### Drop rows with all missing values"
   ]
  },
  {
   "cell_type": "code",
   "execution_count": 9,
   "id": "57e5d385",
   "metadata": {},
   "outputs": [],
   "source": [
    "data.dropna(axis=0, how='all', inplace=True)"
   ]
  },
  {
   "cell_type": "code",
   "execution_count": 10,
   "id": "adf9b0ff",
   "metadata": {},
   "outputs": [
    {
     "data": {
      "text/plain": [
       "(39717, 56)"
      ]
     },
     "execution_count": 10,
     "metadata": {},
     "output_type": "execute_result"
    }
   ],
   "source": [
    "data.shape"
   ]
  },
  {
   "cell_type": "markdown",
   "id": "ea375d6f",
   "metadata": {},
   "source": [
    "### Now Lets see what is the percentage of missing values in remaining rows"
   ]
  },
  {
   "cell_type": "code",
   "execution_count": 11,
   "id": "5ac5d409",
   "metadata": {
    "scrolled": false
   },
   "outputs": [
    {
     "data": {
      "text/plain": [
       "member_id                      0.000000\n",
       "loan_amnt                      0.000000\n",
       "funded_amnt                    0.000000\n",
       "funded_amnt_inv                0.000000\n",
       "term                           0.000000\n",
       "int_rate                       0.000000\n",
       "installment                    0.000000\n",
       "grade                          0.000000\n",
       "sub_grade                      0.000000\n",
       "emp_title                      6.191303\n",
       "emp_length                     2.706650\n",
       "home_ownership                 0.000000\n",
       "annual_inc                     0.000000\n",
       "verification_status            0.000000\n",
       "issue_d                        0.000000\n",
       "loan_status                    0.000000\n",
       "pymnt_plan                     0.000000\n",
       "url                            0.000000\n",
       "desc                          32.580507\n",
       "purpose                        0.000000\n",
       "title                          0.027696\n",
       "zip_code                       0.000000\n",
       "addr_state                     0.000000\n",
       "dti                            0.000000\n",
       "delinq_2yrs                    0.000000\n",
       "earliest_cr_line               0.000000\n",
       "inq_last_6mths                 0.000000\n",
       "mths_since_last_delinq        64.662487\n",
       "mths_since_last_record        92.985372\n",
       "open_acc                       0.000000\n",
       "pub_rec                        0.000000\n",
       "revol_bal                      0.000000\n",
       "revol_util                     0.125891\n",
       "total_acc                      0.000000\n",
       "initial_list_status            0.000000\n",
       "out_prncp                      0.000000\n",
       "out_prncp_inv                  0.000000\n",
       "total_pymnt                    0.000000\n",
       "total_pymnt_inv                0.000000\n",
       "total_rec_prncp                0.000000\n",
       "total_rec_int                  0.000000\n",
       "total_rec_late_fee             0.000000\n",
       "recoveries                     0.000000\n",
       "collection_recovery_fee        0.000000\n",
       "last_pymnt_d                   0.178765\n",
       "last_pymnt_amnt                0.000000\n",
       "next_pymnt_d                  97.129693\n",
       "last_credit_pull_d             0.005036\n",
       "collections_12_mths_ex_med     0.140998\n",
       "policy_code                    0.000000\n",
       "application_type               0.000000\n",
       "acc_now_delinq                 0.000000\n",
       "chargeoff_within_12_mths       0.140998\n",
       "delinq_amnt                    0.000000\n",
       "pub_rec_bankruptcies           1.754916\n",
       "tax_liens                      0.098195\n",
       "dtype: float64"
      ]
     },
     "execution_count": 11,
     "metadata": {},
     "output_type": "execute_result"
    }
   ],
   "source": [
    "(data.isna().sum()/data.shape[0])*100"
   ]
  },
  {
   "cell_type": "code",
   "execution_count": 12,
   "id": "9cc00e7f",
   "metadata": {
    "scrolled": true
   },
   "outputs": [
    {
     "name": "stdout",
     "output_type": "stream",
     "text": [
      "pymnt_plan  :  ['n']\n",
      "initial_list_status  :  ['f']\n",
      "collections_12_mths_ex_med  :  [ 0. nan]\n",
      "policy_code  :  [1]\n",
      "application_type  :  ['INDIVIDUAL']\n",
      "acc_now_delinq  :  [0]\n",
      "chargeoff_within_12_mths  :  [ 0. nan]\n",
      "delinq_amnt  :  [0]\n",
      "tax_liens  :  [ 0. nan]\n"
     ]
    }
   ],
   "source": [
    "single_valued_columns_list = []\n",
    "for i in data.columns:\n",
    "    if data[i].value_counts().shape[0]<2:\n",
    "        print(i, ' : ', data[i].unique())\n",
    "        single_valued_columns_list.append(i)"
   ]
  },
  {
   "cell_type": "code",
   "execution_count": 13,
   "id": "994199af",
   "metadata": {},
   "outputs": [
    {
     "data": {
      "text/html": [
       "<div>\n",
       "<style scoped>\n",
       "    .dataframe tbody tr th:only-of-type {\n",
       "        vertical-align: middle;\n",
       "    }\n",
       "\n",
       "    .dataframe tbody tr th {\n",
       "        vertical-align: top;\n",
       "    }\n",
       "\n",
       "    .dataframe thead th {\n",
       "        text-align: right;\n",
       "    }\n",
       "</style>\n",
       "<table border=\"1\" class=\"dataframe\">\n",
       "  <thead>\n",
       "    <tr style=\"text-align: right;\">\n",
       "      <th></th>\n",
       "      <th>pymnt_plan</th>\n",
       "      <th>initial_list_status</th>\n",
       "      <th>collections_12_mths_ex_med</th>\n",
       "      <th>policy_code</th>\n",
       "      <th>application_type</th>\n",
       "      <th>acc_now_delinq</th>\n",
       "      <th>chargeoff_within_12_mths</th>\n",
       "      <th>delinq_amnt</th>\n",
       "      <th>tax_liens</th>\n",
       "    </tr>\n",
       "    <tr>\n",
       "      <th>id</th>\n",
       "      <th></th>\n",
       "      <th></th>\n",
       "      <th></th>\n",
       "      <th></th>\n",
       "      <th></th>\n",
       "      <th></th>\n",
       "      <th></th>\n",
       "      <th></th>\n",
       "      <th></th>\n",
       "    </tr>\n",
       "  </thead>\n",
       "  <tbody>\n",
       "    <tr>\n",
       "      <th>1077501</th>\n",
       "      <td>n</td>\n",
       "      <td>f</td>\n",
       "      <td>0.0</td>\n",
       "      <td>1</td>\n",
       "      <td>INDIVIDUAL</td>\n",
       "      <td>0</td>\n",
       "      <td>0.0</td>\n",
       "      <td>0</td>\n",
       "      <td>0.0</td>\n",
       "    </tr>\n",
       "    <tr>\n",
       "      <th>1077430</th>\n",
       "      <td>n</td>\n",
       "      <td>f</td>\n",
       "      <td>0.0</td>\n",
       "      <td>1</td>\n",
       "      <td>INDIVIDUAL</td>\n",
       "      <td>0</td>\n",
       "      <td>0.0</td>\n",
       "      <td>0</td>\n",
       "      <td>0.0</td>\n",
       "    </tr>\n",
       "    <tr>\n",
       "      <th>1077175</th>\n",
       "      <td>n</td>\n",
       "      <td>f</td>\n",
       "      <td>0.0</td>\n",
       "      <td>1</td>\n",
       "      <td>INDIVIDUAL</td>\n",
       "      <td>0</td>\n",
       "      <td>0.0</td>\n",
       "      <td>0</td>\n",
       "      <td>0.0</td>\n",
       "    </tr>\n",
       "    <tr>\n",
       "      <th>1076863</th>\n",
       "      <td>n</td>\n",
       "      <td>f</td>\n",
       "      <td>0.0</td>\n",
       "      <td>1</td>\n",
       "      <td>INDIVIDUAL</td>\n",
       "      <td>0</td>\n",
       "      <td>0.0</td>\n",
       "      <td>0</td>\n",
       "      <td>0.0</td>\n",
       "    </tr>\n",
       "    <tr>\n",
       "      <th>1075358</th>\n",
       "      <td>n</td>\n",
       "      <td>f</td>\n",
       "      <td>0.0</td>\n",
       "      <td>1</td>\n",
       "      <td>INDIVIDUAL</td>\n",
       "      <td>0</td>\n",
       "      <td>0.0</td>\n",
       "      <td>0</td>\n",
       "      <td>0.0</td>\n",
       "    </tr>\n",
       "    <tr>\n",
       "      <th>...</th>\n",
       "      <td>...</td>\n",
       "      <td>...</td>\n",
       "      <td>...</td>\n",
       "      <td>...</td>\n",
       "      <td>...</td>\n",
       "      <td>...</td>\n",
       "      <td>...</td>\n",
       "      <td>...</td>\n",
       "      <td>...</td>\n",
       "    </tr>\n",
       "    <tr>\n",
       "      <th>92187</th>\n",
       "      <td>n</td>\n",
       "      <td>f</td>\n",
       "      <td>NaN</td>\n",
       "      <td>1</td>\n",
       "      <td>INDIVIDUAL</td>\n",
       "      <td>0</td>\n",
       "      <td>NaN</td>\n",
       "      <td>0</td>\n",
       "      <td>NaN</td>\n",
       "    </tr>\n",
       "    <tr>\n",
       "      <th>90665</th>\n",
       "      <td>n</td>\n",
       "      <td>f</td>\n",
       "      <td>NaN</td>\n",
       "      <td>1</td>\n",
       "      <td>INDIVIDUAL</td>\n",
       "      <td>0</td>\n",
       "      <td>NaN</td>\n",
       "      <td>0</td>\n",
       "      <td>NaN</td>\n",
       "    </tr>\n",
       "    <tr>\n",
       "      <th>90395</th>\n",
       "      <td>n</td>\n",
       "      <td>f</td>\n",
       "      <td>NaN</td>\n",
       "      <td>1</td>\n",
       "      <td>INDIVIDUAL</td>\n",
       "      <td>0</td>\n",
       "      <td>NaN</td>\n",
       "      <td>0</td>\n",
       "      <td>NaN</td>\n",
       "    </tr>\n",
       "    <tr>\n",
       "      <th>90376</th>\n",
       "      <td>n</td>\n",
       "      <td>f</td>\n",
       "      <td>NaN</td>\n",
       "      <td>1</td>\n",
       "      <td>INDIVIDUAL</td>\n",
       "      <td>0</td>\n",
       "      <td>NaN</td>\n",
       "      <td>0</td>\n",
       "      <td>NaN</td>\n",
       "    </tr>\n",
       "    <tr>\n",
       "      <th>87023</th>\n",
       "      <td>n</td>\n",
       "      <td>f</td>\n",
       "      <td>NaN</td>\n",
       "      <td>1</td>\n",
       "      <td>INDIVIDUAL</td>\n",
       "      <td>0</td>\n",
       "      <td>NaN</td>\n",
       "      <td>0</td>\n",
       "      <td>NaN</td>\n",
       "    </tr>\n",
       "  </tbody>\n",
       "</table>\n",
       "<p>39717 rows × 9 columns</p>\n",
       "</div>"
      ],
      "text/plain": [
       "        pymnt_plan initial_list_status  collections_12_mths_ex_med  \\\n",
       "id                                                                   \n",
       "1077501          n                   f                         0.0   \n",
       "1077430          n                   f                         0.0   \n",
       "1077175          n                   f                         0.0   \n",
       "1076863          n                   f                         0.0   \n",
       "1075358          n                   f                         0.0   \n",
       "...            ...                 ...                         ...   \n",
       "92187            n                   f                         NaN   \n",
       "90665            n                   f                         NaN   \n",
       "90395            n                   f                         NaN   \n",
       "90376            n                   f                         NaN   \n",
       "87023            n                   f                         NaN   \n",
       "\n",
       "         policy_code application_type  acc_now_delinq  \\\n",
       "id                                                      \n",
       "1077501            1       INDIVIDUAL               0   \n",
       "1077430            1       INDIVIDUAL               0   \n",
       "1077175            1       INDIVIDUAL               0   \n",
       "1076863            1       INDIVIDUAL               0   \n",
       "1075358            1       INDIVIDUAL               0   \n",
       "...              ...              ...             ...   \n",
       "92187              1       INDIVIDUAL               0   \n",
       "90665              1       INDIVIDUAL               0   \n",
       "90395              1       INDIVIDUAL               0   \n",
       "90376              1       INDIVIDUAL               0   \n",
       "87023              1       INDIVIDUAL               0   \n",
       "\n",
       "         chargeoff_within_12_mths  delinq_amnt  tax_liens  \n",
       "id                                                         \n",
       "1077501                       0.0            0        0.0  \n",
       "1077430                       0.0            0        0.0  \n",
       "1077175                       0.0            0        0.0  \n",
       "1076863                       0.0            0        0.0  \n",
       "1075358                       0.0            0        0.0  \n",
       "...                           ...          ...        ...  \n",
       "92187                         NaN            0        NaN  \n",
       "90665                         NaN            0        NaN  \n",
       "90395                         NaN            0        NaN  \n",
       "90376                         NaN            0        NaN  \n",
       "87023                         NaN            0        NaN  \n",
       "\n",
       "[39717 rows x 9 columns]"
      ]
     },
     "execution_count": 13,
     "metadata": {},
     "output_type": "execute_result"
    }
   ],
   "source": [
    "data[single_valued_columns_list]"
   ]
  },
  {
   "cell_type": "markdown",
   "id": "fb864ad2",
   "metadata": {},
   "source": [
    "### Droping columns which are irrelevent for analysis"
   ]
  },
  {
   "cell_type": "code",
   "execution_count": 14,
   "id": "f7b369c3",
   "metadata": {},
   "outputs": [],
   "source": [
    "data.drop(['pymnt_plan','initial_list_status','policy_code','application_type','acc_now_delinq','delinq_amnt'], axis=1, inplace=True)"
   ]
  },
  {
   "cell_type": "code",
   "execution_count": 15,
   "id": "33dcae06",
   "metadata": {},
   "outputs": [
    {
     "data": {
      "text/html": [
       "<div>\n",
       "<style scoped>\n",
       "    .dataframe tbody tr th:only-of-type {\n",
       "        vertical-align: middle;\n",
       "    }\n",
       "\n",
       "    .dataframe tbody tr th {\n",
       "        vertical-align: top;\n",
       "    }\n",
       "\n",
       "    .dataframe thead th {\n",
       "        text-align: right;\n",
       "    }\n",
       "</style>\n",
       "<table border=\"1\" class=\"dataframe\">\n",
       "  <thead>\n",
       "    <tr style=\"text-align: right;\">\n",
       "      <th></th>\n",
       "      <th>member_id</th>\n",
       "      <th>loan_amnt</th>\n",
       "      <th>funded_amnt</th>\n",
       "      <th>funded_amnt_inv</th>\n",
       "      <th>term</th>\n",
       "      <th>int_rate</th>\n",
       "      <th>installment</th>\n",
       "      <th>grade</th>\n",
       "      <th>sub_grade</th>\n",
       "      <th>emp_title</th>\n",
       "      <th>...</th>\n",
       "      <th>recoveries</th>\n",
       "      <th>collection_recovery_fee</th>\n",
       "      <th>last_pymnt_d</th>\n",
       "      <th>last_pymnt_amnt</th>\n",
       "      <th>next_pymnt_d</th>\n",
       "      <th>last_credit_pull_d</th>\n",
       "      <th>collections_12_mths_ex_med</th>\n",
       "      <th>chargeoff_within_12_mths</th>\n",
       "      <th>pub_rec_bankruptcies</th>\n",
       "      <th>tax_liens</th>\n",
       "    </tr>\n",
       "    <tr>\n",
       "      <th>id</th>\n",
       "      <th></th>\n",
       "      <th></th>\n",
       "      <th></th>\n",
       "      <th></th>\n",
       "      <th></th>\n",
       "      <th></th>\n",
       "      <th></th>\n",
       "      <th></th>\n",
       "      <th></th>\n",
       "      <th></th>\n",
       "      <th></th>\n",
       "      <th></th>\n",
       "      <th></th>\n",
       "      <th></th>\n",
       "      <th></th>\n",
       "      <th></th>\n",
       "      <th></th>\n",
       "      <th></th>\n",
       "      <th></th>\n",
       "      <th></th>\n",
       "      <th></th>\n",
       "    </tr>\n",
       "  </thead>\n",
       "  <tbody>\n",
       "    <tr>\n",
       "      <th>1077501</th>\n",
       "      <td>1296599</td>\n",
       "      <td>5000</td>\n",
       "      <td>5000</td>\n",
       "      <td>4975.0</td>\n",
       "      <td>36 months</td>\n",
       "      <td>10.65%</td>\n",
       "      <td>162.87</td>\n",
       "      <td>B</td>\n",
       "      <td>B2</td>\n",
       "      <td>NaN</td>\n",
       "      <td>...</td>\n",
       "      <td>0.00</td>\n",
       "      <td>0.00</td>\n",
       "      <td>Jan-15</td>\n",
       "      <td>171.62</td>\n",
       "      <td>NaN</td>\n",
       "      <td>May-16</td>\n",
       "      <td>0.0</td>\n",
       "      <td>0.0</td>\n",
       "      <td>0.0</td>\n",
       "      <td>0.0</td>\n",
       "    </tr>\n",
       "    <tr>\n",
       "      <th>1077430</th>\n",
       "      <td>1314167</td>\n",
       "      <td>2500</td>\n",
       "      <td>2500</td>\n",
       "      <td>2500.0</td>\n",
       "      <td>60 months</td>\n",
       "      <td>15.27%</td>\n",
       "      <td>59.83</td>\n",
       "      <td>C</td>\n",
       "      <td>C4</td>\n",
       "      <td>Ryder</td>\n",
       "      <td>...</td>\n",
       "      <td>117.08</td>\n",
       "      <td>1.11</td>\n",
       "      <td>Apr-13</td>\n",
       "      <td>119.66</td>\n",
       "      <td>NaN</td>\n",
       "      <td>Sep-13</td>\n",
       "      <td>0.0</td>\n",
       "      <td>0.0</td>\n",
       "      <td>0.0</td>\n",
       "      <td>0.0</td>\n",
       "    </tr>\n",
       "    <tr>\n",
       "      <th>1077175</th>\n",
       "      <td>1313524</td>\n",
       "      <td>2400</td>\n",
       "      <td>2400</td>\n",
       "      <td>2400.0</td>\n",
       "      <td>36 months</td>\n",
       "      <td>15.96%</td>\n",
       "      <td>84.33</td>\n",
       "      <td>C</td>\n",
       "      <td>C5</td>\n",
       "      <td>NaN</td>\n",
       "      <td>...</td>\n",
       "      <td>0.00</td>\n",
       "      <td>0.00</td>\n",
       "      <td>Jun-14</td>\n",
       "      <td>649.91</td>\n",
       "      <td>NaN</td>\n",
       "      <td>May-16</td>\n",
       "      <td>0.0</td>\n",
       "      <td>0.0</td>\n",
       "      <td>0.0</td>\n",
       "      <td>0.0</td>\n",
       "    </tr>\n",
       "    <tr>\n",
       "      <th>1076863</th>\n",
       "      <td>1277178</td>\n",
       "      <td>10000</td>\n",
       "      <td>10000</td>\n",
       "      <td>10000.0</td>\n",
       "      <td>36 months</td>\n",
       "      <td>13.49%</td>\n",
       "      <td>339.31</td>\n",
       "      <td>C</td>\n",
       "      <td>C1</td>\n",
       "      <td>AIR RESOURCES BOARD</td>\n",
       "      <td>...</td>\n",
       "      <td>0.00</td>\n",
       "      <td>0.00</td>\n",
       "      <td>Jan-15</td>\n",
       "      <td>357.48</td>\n",
       "      <td>NaN</td>\n",
       "      <td>Apr-16</td>\n",
       "      <td>0.0</td>\n",
       "      <td>0.0</td>\n",
       "      <td>0.0</td>\n",
       "      <td>0.0</td>\n",
       "    </tr>\n",
       "    <tr>\n",
       "      <th>1075358</th>\n",
       "      <td>1311748</td>\n",
       "      <td>3000</td>\n",
       "      <td>3000</td>\n",
       "      <td>3000.0</td>\n",
       "      <td>60 months</td>\n",
       "      <td>12.69%</td>\n",
       "      <td>67.79</td>\n",
       "      <td>B</td>\n",
       "      <td>B5</td>\n",
       "      <td>University Medical Group</td>\n",
       "      <td>...</td>\n",
       "      <td>0.00</td>\n",
       "      <td>0.00</td>\n",
       "      <td>May-16</td>\n",
       "      <td>67.79</td>\n",
       "      <td>Jun-16</td>\n",
       "      <td>May-16</td>\n",
       "      <td>0.0</td>\n",
       "      <td>0.0</td>\n",
       "      <td>0.0</td>\n",
       "      <td>0.0</td>\n",
       "    </tr>\n",
       "  </tbody>\n",
       "</table>\n",
       "<p>5 rows × 50 columns</p>\n",
       "</div>"
      ],
      "text/plain": [
       "         member_id  loan_amnt  funded_amnt  funded_amnt_inv        term  \\\n",
       "id                                                                        \n",
       "1077501    1296599       5000         5000           4975.0   36 months   \n",
       "1077430    1314167       2500         2500           2500.0   60 months   \n",
       "1077175    1313524       2400         2400           2400.0   36 months   \n",
       "1076863    1277178      10000        10000          10000.0   36 months   \n",
       "1075358    1311748       3000         3000           3000.0   60 months   \n",
       "\n",
       "        int_rate  installment grade sub_grade                 emp_title  ...  \\\n",
       "id                                                                       ...   \n",
       "1077501   10.65%       162.87     B        B2                       NaN  ...   \n",
       "1077430   15.27%        59.83     C        C4                     Ryder  ...   \n",
       "1077175   15.96%        84.33     C        C5                       NaN  ...   \n",
       "1076863   13.49%       339.31     C        C1       AIR RESOURCES BOARD  ...   \n",
       "1075358   12.69%        67.79     B        B5  University Medical Group  ...   \n",
       "\n",
       "        recoveries collection_recovery_fee  last_pymnt_d last_pymnt_amnt  \\\n",
       "id                                                                         \n",
       "1077501       0.00                    0.00        Jan-15          171.62   \n",
       "1077430     117.08                    1.11        Apr-13          119.66   \n",
       "1077175       0.00                    0.00        Jun-14          649.91   \n",
       "1076863       0.00                    0.00        Jan-15          357.48   \n",
       "1075358       0.00                    0.00        May-16           67.79   \n",
       "\n",
       "        next_pymnt_d last_credit_pull_d collections_12_mths_ex_med  \\\n",
       "id                                                                   \n",
       "1077501          NaN             May-16                        0.0   \n",
       "1077430          NaN             Sep-13                        0.0   \n",
       "1077175          NaN             May-16                        0.0   \n",
       "1076863          NaN             Apr-16                        0.0   \n",
       "1075358       Jun-16             May-16                        0.0   \n",
       "\n",
       "        chargeoff_within_12_mths pub_rec_bankruptcies tax_liens  \n",
       "id                                                               \n",
       "1077501                      0.0                  0.0       0.0  \n",
       "1077430                      0.0                  0.0       0.0  \n",
       "1077175                      0.0                  0.0       0.0  \n",
       "1076863                      0.0                  0.0       0.0  \n",
       "1075358                      0.0                  0.0       0.0  \n",
       "\n",
       "[5 rows x 50 columns]"
      ]
     },
     "execution_count": 15,
     "metadata": {},
     "output_type": "execute_result"
    }
   ],
   "source": [
    "data.head()"
   ]
  },
  {
   "cell_type": "code",
   "execution_count": 16,
   "id": "d7735aad",
   "metadata": {
    "scrolled": true
   },
   "outputs": [
    {
     "data": {
      "text/plain": [
       "Index(['member_id', 'loan_amnt', 'funded_amnt', 'funded_amnt_inv', 'term',\n",
       "       'int_rate', 'installment', 'grade', 'sub_grade', 'emp_title',\n",
       "       'emp_length', 'home_ownership', 'annual_inc', 'verification_status',\n",
       "       'issue_d', 'loan_status', 'url', 'desc', 'purpose', 'title', 'zip_code',\n",
       "       'addr_state', 'dti', 'delinq_2yrs', 'earliest_cr_line',\n",
       "       'inq_last_6mths', 'mths_since_last_delinq', 'mths_since_last_record',\n",
       "       'open_acc', 'pub_rec', 'revol_bal', 'revol_util', 'total_acc',\n",
       "       'out_prncp', 'out_prncp_inv', 'total_pymnt', 'total_pymnt_inv',\n",
       "       'total_rec_prncp', 'total_rec_int', 'total_rec_late_fee', 'recoveries',\n",
       "       'collection_recovery_fee', 'last_pymnt_d', 'last_pymnt_amnt',\n",
       "       'next_pymnt_d', 'last_credit_pull_d', 'collections_12_mths_ex_med',\n",
       "       'chargeoff_within_12_mths', 'pub_rec_bankruptcies', 'tax_liens'],\n",
       "      dtype='object')"
      ]
     },
     "execution_count": 16,
     "metadata": {},
     "output_type": "execute_result"
    }
   ],
   "source": [
    "data.columns"
   ]
  },
  {
   "cell_type": "code",
   "execution_count": 17,
   "id": "1160f1e2",
   "metadata": {},
   "outputs": [
    {
     "name": "stdout",
     "output_type": "stream",
     "text": [
      "term  :  [' 36 months' ' 60 months']\n",
      "home_ownership  :  ['RENT' 'OWN' 'MORTGAGE' 'OTHER' 'NONE']\n",
      "verification_status  :  ['Verified' 'Source Verified' 'Not Verified']\n",
      "loan_status  :  ['Fully Paid' 'Charged Off' 'Current']\n",
      "pub_rec  :  [0 1 2 3 4]\n",
      "next_pymnt_d  :  [nan 'Jun-16' 'Jul-16']\n",
      "collections_12_mths_ex_med  :  [ 0. nan]\n",
      "chargeoff_within_12_mths  :  [ 0. nan]\n",
      "pub_rec_bankruptcies  :  [ 0.  1.  2. nan]\n",
      "tax_liens  :  [ 0. nan]\n"
     ]
    }
   ],
   "source": [
    "single_valued_columns_list = []\n",
    "for i in data.columns:\n",
    "    if data[i].value_counts().shape[0]<=5:\n",
    "        print(i, ' : ', data[i].unique())\n",
    "        single_valued_columns_list.append(i)"
   ]
  },
  {
   "cell_type": "code",
   "execution_count": 18,
   "id": "f95a2be1",
   "metadata": {},
   "outputs": [
    {
     "data": {
      "text/plain": [
       "0.971296925749679"
      ]
     },
     "execution_count": 18,
     "metadata": {},
     "output_type": "execute_result"
    }
   ],
   "source": [
    "data.next_pymnt_d.isna().sum()/data.shape[0]"
   ]
  },
  {
   "cell_type": "markdown",
   "id": "389166d7",
   "metadata": {},
   "source": [
    "#### Next payment date column has 97% missing values and the the dates are Jun-16 and Jul-16 which are five years from 2011. \n",
    "#### So we don't need this column for analysis."
   ]
  },
  {
   "cell_type": "code",
   "execution_count": 19,
   "id": "fb78d4dc",
   "metadata": {},
   "outputs": [],
   "source": [
    "data.drop(['next_pymnt_d'], axis=1, inplace=True)"
   ]
  },
  {
   "cell_type": "code",
   "execution_count": 20,
   "id": "e8be8c34",
   "metadata": {},
   "outputs": [
    {
     "data": {
      "text/plain": [
       "0.0014099755772087519"
      ]
     },
     "execution_count": 20,
     "metadata": {},
     "output_type": "execute_result"
    }
   ],
   "source": [
    "data.chargeoff_within_12_mths.isna().sum()/data.shape[0]"
   ]
  },
  {
   "cell_type": "markdown",
   "id": "12b98b03",
   "metadata": {},
   "source": [
    "#### Member id is just ID representing the customer there no significance of this column in the analysis"
   ]
  },
  {
   "cell_type": "code",
   "execution_count": 21,
   "id": "46b434ef",
   "metadata": {},
   "outputs": [],
   "source": [
    "data.drop(['member_id'], axis=1, inplace=True)"
   ]
  },
  {
   "cell_type": "code",
   "execution_count": 22,
   "id": "e50887de",
   "metadata": {},
   "outputs": [
    {
     "data": {
      "text/plain": [
       "28821"
      ]
     },
     "execution_count": 22,
     "metadata": {},
     "output_type": "execute_result"
    }
   ],
   "source": [
    "data.emp_title.unique().shape[0]"
   ]
  },
  {
   "cell_type": "markdown",
   "id": "20727408",
   "metadata": {},
   "source": [
    "#### There are 28K unique job titles, I don't think this is also helpfull for analysis"
   ]
  },
  {
   "cell_type": "code",
   "execution_count": 23,
   "id": "060c8fcf",
   "metadata": {},
   "outputs": [],
   "source": [
    "data.drop(['emp_title'], axis=1, inplace=True)"
   ]
  },
  {
   "cell_type": "code",
   "execution_count": 24,
   "id": "fa1dfc4f",
   "metadata": {},
   "outputs": [
    {
     "data": {
      "text/plain": [
       "id\n",
       "1077501    https://lendingclub.com/browse/loanDetail.acti...\n",
       "1077430    https://lendingclub.com/browse/loanDetail.acti...\n",
       "1077175    https://lendingclub.com/browse/loanDetail.acti...\n",
       "1076863    https://lendingclub.com/browse/loanDetail.acti...\n",
       "1075358    https://lendingclub.com/browse/loanDetail.acti...\n",
       "                                 ...                        \n",
       "92187      https://lendingclub.com/browse/loanDetail.acti...\n",
       "90665      https://lendingclub.com/browse/loanDetail.acti...\n",
       "90395      https://lendingclub.com/browse/loanDetail.acti...\n",
       "90376      https://lendingclub.com/browse/loanDetail.acti...\n",
       "87023      https://lendingclub.com/browse/loanDetail.acti...\n",
       "Name: url, Length: 39717, dtype: object"
      ]
     },
     "execution_count": 24,
     "metadata": {},
     "output_type": "execute_result"
    }
   ],
   "source": [
    "data.url"
   ]
  },
  {
   "cell_type": "markdown",
   "id": "d7dc219b",
   "metadata": {},
   "source": [
    "#### url column seem to be the loan details of each id, so we don't neec this column also for analysis"
   ]
  },
  {
   "cell_type": "code",
   "execution_count": 25,
   "id": "6725785c",
   "metadata": {},
   "outputs": [],
   "source": [
    "data.drop(['url'], axis=1, inplace=True)"
   ]
  },
  {
   "cell_type": "code",
   "execution_count": 26,
   "id": "4617e32b",
   "metadata": {},
   "outputs": [
    {
     "data": {
      "text/html": [
       "<div>\n",
       "<style scoped>\n",
       "    .dataframe tbody tr th:only-of-type {\n",
       "        vertical-align: middle;\n",
       "    }\n",
       "\n",
       "    .dataframe tbody tr th {\n",
       "        vertical-align: top;\n",
       "    }\n",
       "\n",
       "    .dataframe thead th {\n",
       "        text-align: right;\n",
       "    }\n",
       "</style>\n",
       "<table border=\"1\" class=\"dataframe\">\n",
       "  <thead>\n",
       "    <tr style=\"text-align: right;\">\n",
       "      <th></th>\n",
       "      <th>purpose</th>\n",
       "      <th>title</th>\n",
       "    </tr>\n",
       "    <tr>\n",
       "      <th>id</th>\n",
       "      <th></th>\n",
       "      <th></th>\n",
       "    </tr>\n",
       "  </thead>\n",
       "  <tbody>\n",
       "    <tr>\n",
       "      <th>1077501</th>\n",
       "      <td>credit_card</td>\n",
       "      <td>Computer</td>\n",
       "    </tr>\n",
       "    <tr>\n",
       "      <th>1077430</th>\n",
       "      <td>car</td>\n",
       "      <td>bike</td>\n",
       "    </tr>\n",
       "    <tr>\n",
       "      <th>1077175</th>\n",
       "      <td>small_business</td>\n",
       "      <td>real estate business</td>\n",
       "    </tr>\n",
       "    <tr>\n",
       "      <th>1076863</th>\n",
       "      <td>other</td>\n",
       "      <td>personel</td>\n",
       "    </tr>\n",
       "    <tr>\n",
       "      <th>1075358</th>\n",
       "      <td>other</td>\n",
       "      <td>Personal</td>\n",
       "    </tr>\n",
       "    <tr>\n",
       "      <th>...</th>\n",
       "      <td>...</td>\n",
       "      <td>...</td>\n",
       "    </tr>\n",
       "    <tr>\n",
       "      <th>92187</th>\n",
       "      <td>home_improvement</td>\n",
       "      <td>Home Improvement</td>\n",
       "    </tr>\n",
       "    <tr>\n",
       "      <th>90665</th>\n",
       "      <td>credit_card</td>\n",
       "      <td>Retiring credit card debt</td>\n",
       "    </tr>\n",
       "    <tr>\n",
       "      <th>90395</th>\n",
       "      <td>debt_consolidation</td>\n",
       "      <td>MBA Loan Consolidation</td>\n",
       "    </tr>\n",
       "    <tr>\n",
       "      <th>90376</th>\n",
       "      <td>other</td>\n",
       "      <td>JAL Loan</td>\n",
       "    </tr>\n",
       "    <tr>\n",
       "      <th>87023</th>\n",
       "      <td>debt_consolidation</td>\n",
       "      <td>Consolidation Loan</td>\n",
       "    </tr>\n",
       "  </tbody>\n",
       "</table>\n",
       "<p>39717 rows × 2 columns</p>\n",
       "</div>"
      ],
      "text/plain": [
       "                    purpose                      title\n",
       "id                                                    \n",
       "1077501         credit_card                   Computer\n",
       "1077430                 car                       bike\n",
       "1077175      small_business       real estate business\n",
       "1076863               other                   personel\n",
       "1075358               other                   Personal\n",
       "...                     ...                        ...\n",
       "92187      home_improvement           Home Improvement\n",
       "90665           credit_card  Retiring credit card debt\n",
       "90395    debt_consolidation     MBA Loan Consolidation\n",
       "90376                 other                   JAL Loan\n",
       "87023    debt_consolidation         Consolidation Loan\n",
       "\n",
       "[39717 rows x 2 columns]"
      ]
     },
     "execution_count": 26,
     "metadata": {},
     "output_type": "execute_result"
    }
   ],
   "source": [
    "data[['purpose', 'title']]"
   ]
  },
  {
   "cell_type": "code",
   "execution_count": 27,
   "id": "ea3b8a44",
   "metadata": {},
   "outputs": [
    {
     "data": {
      "text/plain": [
       "array(['credit_card', 'car', 'small_business', 'other', 'wedding',\n",
       "       'debt_consolidation', 'home_improvement', 'major_purchase',\n",
       "       'medical', 'moving', 'vacation', 'house', 'renewable_energy',\n",
       "       'educational'], dtype=object)"
      ]
     },
     "execution_count": 27,
     "metadata": {},
     "output_type": "execute_result"
    }
   ],
   "source": [
    "data.purpose.unique()"
   ]
  },
  {
   "cell_type": "code",
   "execution_count": 28,
   "id": "c8fb25de",
   "metadata": {},
   "outputs": [
    {
     "data": {
      "text/plain": [
       "array(['Computer', 'bike', 'real estate business', ...,\n",
       "       'Retiring credit card debt', 'MBA Loan Consolidation', 'JAL Loan'],\n",
       "      dtype=object)"
      ]
     },
     "execution_count": 28,
     "metadata": {},
     "output_type": "execute_result"
    }
   ],
   "source": [
    "data.title.unique()"
   ]
  },
  {
   "cell_type": "markdown",
   "id": "cb35038f",
   "metadata": {},
   "source": [
    "#### Title column is subcategory of purpose column, so Title column also not needed."
   ]
  },
  {
   "cell_type": "code",
   "execution_count": 29,
   "id": "cdfca35f",
   "metadata": {},
   "outputs": [],
   "source": [
    "data.drop(['title'], axis=1, inplace=True)"
   ]
  },
  {
   "cell_type": "code",
   "execution_count": 30,
   "id": "5e66b96e",
   "metadata": {},
   "outputs": [
    {
     "data": {
      "text/plain": [
       "id\n",
       "1077501    860xx\n",
       "1077430    309xx\n",
       "1077175    606xx\n",
       "1076863    917xx\n",
       "1075358    972xx\n",
       "Name: zip_code, dtype: object"
      ]
     },
     "execution_count": 30,
     "metadata": {},
     "output_type": "execute_result"
    }
   ],
   "source": [
    "data.zip_code.head()"
   ]
  },
  {
   "cell_type": "markdown",
   "id": "87b9e8f5",
   "metadata": {},
   "source": [
    "#### Zip code column might be required if we want to analyze defaulter from each area but there are more than 800 unique values are present in this column, so i am ignoring for now."
   ]
  },
  {
   "cell_type": "code",
   "execution_count": 31,
   "id": "31d4e9a8",
   "metadata": {},
   "outputs": [],
   "source": [
    "data.drop(['zip_code'], axis=1, inplace=True)"
   ]
  },
  {
   "cell_type": "code",
   "execution_count": 32,
   "id": "61402c94",
   "metadata": {},
   "outputs": [
    {
     "data": {
      "text/plain": [
       "0.9298537150338646"
      ]
     },
     "execution_count": 32,
     "metadata": {},
     "output_type": "execute_result"
    }
   ],
   "source": [
    "data.mths_since_last_record.isna().sum()/data.shape[0]"
   ]
  },
  {
   "cell_type": "markdown",
   "id": "b279ac36",
   "metadata": {},
   "source": [
    "#### The number of months since the last public record. column has 92% missing values, so removing this columns"
   ]
  },
  {
   "cell_type": "code",
   "execution_count": 33,
   "id": "6b75e7d4",
   "metadata": {},
   "outputs": [],
   "source": [
    "data.drop(['mths_since_last_record'], axis=1, inplace=True)"
   ]
  },
  {
   "cell_type": "code",
   "execution_count": 34,
   "id": "d5fbf41a",
   "metadata": {},
   "outputs": [
    {
     "data": {
      "text/plain": [
       "array([ 3,  2, 10, 15,  9,  7,  4, 11, 14, 12, 20,  8,  6, 17,  5, 13, 16,\n",
       "       30, 21, 18, 19, 27, 23, 34, 25, 22, 24, 26, 32, 28, 29, 33, 31, 39,\n",
       "       35, 36, 38, 44, 41, 42], dtype=int64)"
      ]
     },
     "execution_count": 34,
     "metadata": {},
     "output_type": "execute_result"
    }
   ],
   "source": [
    "data.open_acc.unique()"
   ]
  },
  {
   "cell_type": "code",
   "execution_count": 35,
   "id": "e67a0c64",
   "metadata": {},
   "outputs": [],
   "source": [
    "data.emp_length.fillna('Unknown', inplace=True)"
   ]
  },
  {
   "cell_type": "code",
   "execution_count": 36,
   "id": "38431205",
   "metadata": {},
   "outputs": [],
   "source": [
    "data.pub_rec_bankruptcies.fillna('Unknown', inplace=True)"
   ]
  },
  {
   "cell_type": "code",
   "execution_count": 37,
   "id": "2416b6ab",
   "metadata": {},
   "outputs": [
    {
     "data": {
      "text/plain": [
       "0.3258050708764509"
      ]
     },
     "execution_count": 37,
     "metadata": {},
     "output_type": "execute_result"
    }
   ],
   "source": [
    "data.desc.isna().sum()/data.shape[0]"
   ]
  },
  {
   "cell_type": "code",
   "execution_count": 38,
   "id": "652a81af",
   "metadata": {},
   "outputs": [
    {
     "data": {
      "text/plain": [
       "0.6466248709620566"
      ]
     },
     "execution_count": 38,
     "metadata": {},
     "output_type": "execute_result"
    }
   ],
   "source": [
    "data.mths_since_last_delinq.isna().sum()/data.shape[0]"
   ]
  },
  {
   "cell_type": "markdown",
   "id": "7504a0e9",
   "metadata": {},
   "source": [
    "#### Removing months since last delinq and desc column as they have more than 30% missing values"
   ]
  },
  {
   "cell_type": "code",
   "execution_count": 39,
   "id": "673f5b53",
   "metadata": {},
   "outputs": [],
   "source": [
    "data.drop(['mths_since_last_delinq', 'desc'], axis=1, inplace=True)"
   ]
  },
  {
   "cell_type": "code",
   "execution_count": 40,
   "id": "c9a4a65e",
   "metadata": {},
   "outputs": [
    {
     "data": {
      "text/plain": [
       "<AxesSubplot:>"
      ]
     },
     "execution_count": 40,
     "metadata": {},
     "output_type": "execute_result"
    },
    {
     "data": {
      "image/png": "[encoded data removed]",
      "text/plain": [
       "<Figure size 1800x720 with 2 Axes>"
      ]
     },
     "metadata": {
      "needs_background": "light"
     },
     "output_type": "display_data"
    }
   ],
   "source": [
    "msno.matrix(data.sample(50))"
   ]
  },
  {
   "cell_type": "code",
   "execution_count": 41,
   "id": "d5cfcb46",
   "metadata": {
    "scrolled": false
   },
   "outputs": [
    {
     "data": {
      "text/plain": [
       "<AxesSubplot:>"
      ]
     },
     "execution_count": 41,
     "metadata": {},
     "output_type": "execute_result"
    },
    {
     "data": {
      "image/png": "[encoded data removed]",
      "text/plain": [
       "<Figure size 1800x720 with 3 Axes>"
      ]
     },
     "metadata": {
      "needs_background": "light"
     },
     "output_type": "display_data"
    }
   ],
   "source": [
    "msno.bar(data)"
   ]
  },
  {
   "cell_type": "code",
   "execution_count": 42,
   "id": "7fddef5e",
   "metadata": {},
   "outputs": [
    {
     "data": {
      "text/plain": [
       "(39717, 41)"
      ]
     },
     "execution_count": 42,
     "metadata": {},
     "output_type": "execute_result"
    }
   ],
   "source": [
    "data.shape"
   ]
  },
  {
   "cell_type": "code",
   "execution_count": 43,
   "id": "b2b56e6f",
   "metadata": {
    "scrolled": false
   },
   "outputs": [
    {
     "data": {
      "text/html": [
       "<div>\n",
       "<style scoped>\n",
       "    .dataframe tbody tr th:only-of-type {\n",
       "        vertical-align: middle;\n",
       "    }\n",
       "\n",
       "    .dataframe tbody tr th {\n",
       "        vertical-align: top;\n",
       "    }\n",
       "\n",
       "    .dataframe thead th {\n",
       "        text-align: right;\n",
       "    }\n",
       "</style>\n",
       "<table border=\"1\" class=\"dataframe\">\n",
       "  <thead>\n",
       "    <tr style=\"text-align: right;\">\n",
       "      <th></th>\n",
       "      <th>loan_amnt</th>\n",
       "      <th>funded_amnt</th>\n",
       "      <th>funded_amnt_inv</th>\n",
       "      <th>installment</th>\n",
       "      <th>annual_inc</th>\n",
       "      <th>dti</th>\n",
       "      <th>delinq_2yrs</th>\n",
       "      <th>inq_last_6mths</th>\n",
       "      <th>open_acc</th>\n",
       "      <th>pub_rec</th>\n",
       "      <th>...</th>\n",
       "      <th>total_pymnt_inv</th>\n",
       "      <th>total_rec_prncp</th>\n",
       "      <th>total_rec_int</th>\n",
       "      <th>total_rec_late_fee</th>\n",
       "      <th>recoveries</th>\n",
       "      <th>collection_recovery_fee</th>\n",
       "      <th>last_pymnt_amnt</th>\n",
       "      <th>collections_12_mths_ex_med</th>\n",
       "      <th>chargeoff_within_12_mths</th>\n",
       "      <th>tax_liens</th>\n",
       "    </tr>\n",
       "  </thead>\n",
       "  <tbody>\n",
       "    <tr>\n",
       "      <th>count</th>\n",
       "      <td>39717.000000</td>\n",
       "      <td>39717.000000</td>\n",
       "      <td>39717.000000</td>\n",
       "      <td>39717.000000</td>\n",
       "      <td>3.971700e+04</td>\n",
       "      <td>39717.000000</td>\n",
       "      <td>39717.000000</td>\n",
       "      <td>39717.000000</td>\n",
       "      <td>39717.000000</td>\n",
       "      <td>39717.000000</td>\n",
       "      <td>...</td>\n",
       "      <td>39717.000000</td>\n",
       "      <td>39717.000000</td>\n",
       "      <td>39717.000000</td>\n",
       "      <td>39717.000000</td>\n",
       "      <td>39717.000000</td>\n",
       "      <td>39717.000000</td>\n",
       "      <td>39717.000000</td>\n",
       "      <td>39661.0</td>\n",
       "      <td>39661.0</td>\n",
       "      <td>39678.0</td>\n",
       "    </tr>\n",
       "    <tr>\n",
       "      <th>mean</th>\n",
       "      <td>11219.443815</td>\n",
       "      <td>10947.713196</td>\n",
       "      <td>10397.448868</td>\n",
       "      <td>324.561922</td>\n",
       "      <td>6.896893e+04</td>\n",
       "      <td>13.315130</td>\n",
       "      <td>0.146512</td>\n",
       "      <td>0.869200</td>\n",
       "      <td>9.294408</td>\n",
       "      <td>0.055065</td>\n",
       "      <td>...</td>\n",
       "      <td>11567.149118</td>\n",
       "      <td>9793.348813</td>\n",
       "      <td>2263.663172</td>\n",
       "      <td>1.363015</td>\n",
       "      <td>95.221624</td>\n",
       "      <td>12.406112</td>\n",
       "      <td>2678.826162</td>\n",
       "      <td>0.0</td>\n",
       "      <td>0.0</td>\n",
       "      <td>0.0</td>\n",
       "    </tr>\n",
       "    <tr>\n",
       "      <th>std</th>\n",
       "      <td>7456.670694</td>\n",
       "      <td>7187.238670</td>\n",
       "      <td>7128.450439</td>\n",
       "      <td>208.874874</td>\n",
       "      <td>6.379377e+04</td>\n",
       "      <td>6.678594</td>\n",
       "      <td>0.491812</td>\n",
       "      <td>1.070219</td>\n",
       "      <td>4.400282</td>\n",
       "      <td>0.237200</td>\n",
       "      <td>...</td>\n",
       "      <td>8942.672613</td>\n",
       "      <td>7065.522127</td>\n",
       "      <td>2608.111964</td>\n",
       "      <td>7.289979</td>\n",
       "      <td>688.744771</td>\n",
       "      <td>148.671593</td>\n",
       "      <td>4447.136012</td>\n",
       "      <td>0.0</td>\n",
       "      <td>0.0</td>\n",
       "      <td>0.0</td>\n",
       "    </tr>\n",
       "    <tr>\n",
       "      <th>min</th>\n",
       "      <td>500.000000</td>\n",
       "      <td>500.000000</td>\n",
       "      <td>0.000000</td>\n",
       "      <td>15.690000</td>\n",
       "      <td>4.000000e+03</td>\n",
       "      <td>0.000000</td>\n",
       "      <td>0.000000</td>\n",
       "      <td>0.000000</td>\n",
       "      <td>2.000000</td>\n",
       "      <td>0.000000</td>\n",
       "      <td>...</td>\n",
       "      <td>0.000000</td>\n",
       "      <td>0.000000</td>\n",
       "      <td>0.000000</td>\n",
       "      <td>0.000000</td>\n",
       "      <td>0.000000</td>\n",
       "      <td>0.000000</td>\n",
       "      <td>0.000000</td>\n",
       "      <td>0.0</td>\n",
       "      <td>0.0</td>\n",
       "      <td>0.0</td>\n",
       "    </tr>\n",
       "    <tr>\n",
       "      <th>25%</th>\n",
       "      <td>5500.000000</td>\n",
       "      <td>5400.000000</td>\n",
       "      <td>5000.000000</td>\n",
       "      <td>167.020000</td>\n",
       "      <td>4.040400e+04</td>\n",
       "      <td>8.170000</td>\n",
       "      <td>0.000000</td>\n",
       "      <td>0.000000</td>\n",
       "      <td>6.000000</td>\n",
       "      <td>0.000000</td>\n",
       "      <td>...</td>\n",
       "      <td>5112.310000</td>\n",
       "      <td>4600.000000</td>\n",
       "      <td>662.180000</td>\n",
       "      <td>0.000000</td>\n",
       "      <td>0.000000</td>\n",
       "      <td>0.000000</td>\n",
       "      <td>218.680000</td>\n",
       "      <td>0.0</td>\n",
       "      <td>0.0</td>\n",
       "      <td>0.0</td>\n",
       "    </tr>\n",
       "    <tr>\n",
       "      <th>50%</th>\n",
       "      <td>10000.000000</td>\n",
       "      <td>9600.000000</td>\n",
       "      <td>8975.000000</td>\n",
       "      <td>280.220000</td>\n",
       "      <td>5.900000e+04</td>\n",
       "      <td>13.400000</td>\n",
       "      <td>0.000000</td>\n",
       "      <td>1.000000</td>\n",
       "      <td>9.000000</td>\n",
       "      <td>0.000000</td>\n",
       "      <td>...</td>\n",
       "      <td>9287.150000</td>\n",
       "      <td>8000.000000</td>\n",
       "      <td>1348.910000</td>\n",
       "      <td>0.000000</td>\n",
       "      <td>0.000000</td>\n",
       "      <td>0.000000</td>\n",
       "      <td>546.140000</td>\n",
       "      <td>0.0</td>\n",
       "      <td>0.0</td>\n",
       "      <td>0.0</td>\n",
       "    </tr>\n",
       "    <tr>\n",
       "      <th>75%</th>\n",
       "      <td>15000.000000</td>\n",
       "      <td>15000.000000</td>\n",
       "      <td>14400.000000</td>\n",
       "      <td>430.780000</td>\n",
       "      <td>8.230000e+04</td>\n",
       "      <td>18.600000</td>\n",
       "      <td>0.000000</td>\n",
       "      <td>1.000000</td>\n",
       "      <td>12.000000</td>\n",
       "      <td>0.000000</td>\n",
       "      <td>...</td>\n",
       "      <td>15798.810000</td>\n",
       "      <td>13653.260000</td>\n",
       "      <td>2833.400000</td>\n",
       "      <td>0.000000</td>\n",
       "      <td>0.000000</td>\n",
       "      <td>0.000000</td>\n",
       "      <td>3293.160000</td>\n",
       "      <td>0.0</td>\n",
       "      <td>0.0</td>\n",
       "      <td>0.0</td>\n",
       "    </tr>\n",
       "    <tr>\n",
       "      <th>max</th>\n",
       "      <td>35000.000000</td>\n",
       "      <td>35000.000000</td>\n",
       "      <td>35000.000000</td>\n",
       "      <td>1305.190000</td>\n",
       "      <td>6.000000e+06</td>\n",
       "      <td>29.990000</td>\n",
       "      <td>11.000000</td>\n",
       "      <td>8.000000</td>\n",
       "      <td>44.000000</td>\n",
       "      <td>4.000000</td>\n",
       "      <td>...</td>\n",
       "      <td>58563.680000</td>\n",
       "      <td>35000.020000</td>\n",
       "      <td>23563.680000</td>\n",
       "      <td>180.200000</td>\n",
       "      <td>29623.350000</td>\n",
       "      <td>7002.190000</td>\n",
       "      <td>36115.200000</td>\n",
       "      <td>0.0</td>\n",
       "      <td>0.0</td>\n",
       "      <td>0.0</td>\n",
       "    </tr>\n",
       "  </tbody>\n",
       "</table>\n",
       "<p>8 rows × 25 columns</p>\n",
       "</div>"
      ],
      "text/plain": [
       "          loan_amnt   funded_amnt  funded_amnt_inv   installment  \\\n",
       "count  39717.000000  39717.000000     39717.000000  39717.000000   \n",
       "mean   11219.443815  10947.713196     10397.448868    324.561922   \n",
       "std     7456.670694   7187.238670      7128.450439    208.874874   \n",
       "min      500.000000    500.000000         0.000000     15.690000   \n",
       "25%     5500.000000   5400.000000      5000.000000    167.020000   \n",
       "50%    10000.000000   9600.000000      8975.000000    280.220000   \n",
       "75%    15000.000000  15000.000000     14400.000000    430.780000   \n",
       "max    35000.000000  35000.000000     35000.000000   1305.190000   \n",
       "\n",
       "         annual_inc           dti   delinq_2yrs  inq_last_6mths      open_acc  \\\n",
       "count  3.971700e+04  39717.000000  39717.000000    39717.000000  39717.000000   \n",
       "mean   6.896893e+04     13.315130      0.146512        0.869200      9.294408   \n",
       "std    6.379377e+04      6.678594      0.491812        1.070219      4.400282   \n",
       "min    4.000000e+03      0.000000      0.000000        0.000000      2.000000   \n",
       "25%    4.040400e+04      8.170000      0.000000        0.000000      6.000000   \n",
       "50%    5.900000e+04     13.400000      0.000000        1.000000      9.000000   \n",
       "75%    8.230000e+04     18.600000      0.000000        1.000000     12.000000   \n",
       "max    6.000000e+06     29.990000     11.000000        8.000000     44.000000   \n",
       "\n",
       "            pub_rec  ...  total_pymnt_inv  total_rec_prncp  total_rec_int  \\\n",
       "count  39717.000000  ...     39717.000000     39717.000000   39717.000000   \n",
       "mean       0.055065  ...     11567.149118      9793.348813    2263.663172   \n",
       "std        0.237200  ...      8942.672613      7065.522127    2608.111964   \n",
       "min        0.000000  ...         0.000000         0.000000       0.000000   \n",
       "25%        0.000000  ...      5112.310000      4600.000000     662.180000   \n",
       "50%        0.000000  ...      9287.150000      8000.000000    1348.910000   \n",
       "75%        0.000000  ...     15798.810000     13653.260000    2833.400000   \n",
       "max        4.000000  ...     58563.680000     35000.020000   23563.680000   \n",
       "\n",
       "       total_rec_late_fee    recoveries  collection_recovery_fee  \\\n",
       "count        39717.000000  39717.000000             39717.000000   \n",
       "mean             1.363015     95.221624                12.406112   \n",
       "std              7.289979    688.744771               148.671593   \n",
       "min              0.000000      0.000000                 0.000000   \n",
       "25%              0.000000      0.000000                 0.000000   \n",
       "50%              0.000000      0.000000                 0.000000   \n",
       "75%              0.000000      0.000000                 0.000000   \n",
       "max            180.200000  29623.350000              7002.190000   \n",
       "\n",
       "       last_pymnt_amnt  collections_12_mths_ex_med  chargeoff_within_12_mths  \\\n",
       "count     39717.000000                     39661.0                   39661.0   \n",
       "mean       2678.826162                         0.0                       0.0   \n",
       "std        4447.136012                         0.0                       0.0   \n",
       "min           0.000000                         0.0                       0.0   \n",
       "25%         218.680000                         0.0                       0.0   \n",
       "50%         546.140000                         0.0                       0.0   \n",
       "75%        3293.160000                         0.0                       0.0   \n",
       "max       36115.200000                         0.0                       0.0   \n",
       "\n",
       "       tax_liens  \n",
       "count    39678.0  \n",
       "mean         0.0  \n",
       "std          0.0  \n",
       "min          0.0  \n",
       "25%          0.0  \n",
       "50%          0.0  \n",
       "75%          0.0  \n",
       "max          0.0  \n",
       "\n",
       "[8 rows x 25 columns]"
      ]
     },
     "execution_count": 43,
     "metadata": {},
     "output_type": "execute_result"
    }
   ],
   "source": [
    "data.describe()"
   ]
  },
  {
   "cell_type": "markdown",
   "id": "0203af25",
   "metadata": {},
   "source": [
    "#### Collection_12_mths_ex_med, chargeoff_within_12_mths, tax_liens column values are 0 only we can drop these conlumns"
   ]
  },
  {
   "cell_type": "code",
   "execution_count": 44,
   "id": "a817eade",
   "metadata": {},
   "outputs": [],
   "source": [
    "data.drop(['collections_12_mths_ex_med', 'chargeoff_within_12_mths', 'tax_liens'], axis=1, inplace=True)"
   ]
  },
  {
   "cell_type": "code",
   "execution_count": 45,
   "id": "bf2cefc8",
   "metadata": {},
   "outputs": [
    {
     "data": {
      "text/plain": [
       "(39717, 38)"
      ]
     },
     "execution_count": 45,
     "metadata": {},
     "output_type": "execute_result"
    }
   ],
   "source": [
    "data.shape"
   ]
  },
  {
   "cell_type": "code",
   "execution_count": 46,
   "id": "24f0a4ed",
   "metadata": {
    "scrolled": true
   },
   "outputs": [
    {
     "data": {
      "text/plain": [
       "<AxesSubplot:>"
      ]
     },
     "execution_count": 46,
     "metadata": {},
     "output_type": "execute_result"
    },
    {
     "data": {
      "image/png": "[encoded data removed]",
      "text/plain": [
       "<Figure size 432x288 with 2 Axes>"
      ]
     },
     "metadata": {
      "needs_background": "light"
     },
     "output_type": "display_data"
    }
   ],
   "source": [
    "sns.heatmap(data[['loan_amnt','funded_amnt','funded_amnt_inv']].corr(), annot=True)"
   ]
  },
  {
   "cell_type": "markdown",
   "id": "f55e02b5",
   "metadata": {},
   "source": [
    "#### loan_amnt, funded_amnt, funded_amnt_inv columns are highly correlated and values are similar. we can drop funded_amnt and funded_amnt_inv"
   ]
  },
  {
   "cell_type": "code",
   "execution_count": 47,
   "id": "3b265a2c",
   "metadata": {},
   "outputs": [],
   "source": [
    "data.drop(['funded_amnt','funded_amnt_inv'], axis=1, inplace=True)"
   ]
  },
  {
   "cell_type": "code",
   "execution_count": 48,
   "id": "0a6f7e73",
   "metadata": {},
   "outputs": [
    {
     "name": "stdout",
     "output_type": "stream",
     "text": [
      "<class 'pandas.core.frame.DataFrame'>\n",
      "Int64Index: 39717 entries, 1077501 to 87023\n",
      "Data columns (total 36 columns):\n",
      " #   Column                   Non-Null Count  Dtype  \n",
      "---  ------                   --------------  -----  \n",
      " 0   loan_amnt                39717 non-null  int64  \n",
      " 1   term                     39717 non-null  object \n",
      " 2   int_rate                 39717 non-null  object \n",
      " 3   installment              39717 non-null  float64\n",
      " 4   grade                    39717 non-null  object \n",
      " 5   sub_grade                39717 non-null  object \n",
      " 6   emp_length               39717 non-null  object \n",
      " 7   home_ownership           39717 non-null  object \n",
      " 8   annual_inc               39717 non-null  float64\n",
      " 9   verification_status      39717 non-null  object \n",
      " 10  issue_d                  39717 non-null  object \n",
      " 11  loan_status              39717 non-null  object \n",
      " 12  purpose                  39717 non-null  object \n",
      " 13  addr_state               39717 non-null  object \n",
      " 14  dti                      39717 non-null  float64\n",
      " 15  delinq_2yrs              39717 non-null  int64  \n",
      " 16  earliest_cr_line         39717 non-null  object \n",
      " 17  inq_last_6mths           39717 non-null  int64  \n",
      " 18  open_acc                 39717 non-null  int64  \n",
      " 19  pub_rec                  39717 non-null  int64  \n",
      " 20  revol_bal                39717 non-null  int64  \n",
      " 21  revol_util               39667 non-null  object \n",
      " 22  total_acc                39717 non-null  int64  \n",
      " 23  out_prncp                39717 non-null  float64\n",
      " 24  out_prncp_inv            39717 non-null  float64\n",
      " 25  total_pymnt              39717 non-null  float64\n",
      " 26  total_pymnt_inv          39717 non-null  float64\n",
      " 27  total_rec_prncp          39717 non-null  float64\n",
      " 28  total_rec_int            39717 non-null  float64\n",
      " 29  total_rec_late_fee       39717 non-null  float64\n",
      " 30  recoveries               39717 non-null  float64\n",
      " 31  collection_recovery_fee  39717 non-null  float64\n",
      " 32  last_pymnt_d             39646 non-null  object \n",
      " 33  last_pymnt_amnt          39717 non-null  float64\n",
      " 34  last_credit_pull_d       39715 non-null  object \n",
      " 35  pub_rec_bankruptcies     39717 non-null  object \n",
      "dtypes: float64(13), int64(7), object(16)\n",
      "memory usage: 11.2+ MB\n"
     ]
    }
   ],
   "source": [
    "data.info()"
   ]
  },
  {
   "cell_type": "code",
   "execution_count": 49,
   "id": "d9bc36c7",
   "metadata": {},
   "outputs": [],
   "source": [
    "cat_data = data[['loan_amnt','term','int_rate','grade','sub_grade','home_ownership','verification_status',\n",
    "                'issue_d','loan_status','purpose','addr_state','earliest_cr_line','revol_util','last_pymnt_d',\n",
    "                'last_credit_pull_d','pub_rec_bankruptcies']]"
   ]
  },
  {
   "cell_type": "code",
   "execution_count": 50,
   "id": "72815ed1",
   "metadata": {
    "scrolled": false
   },
   "outputs": [
    {
     "name": "stdout",
     "output_type": "stream",
     "text": [
      "<class 'pandas.core.frame.DataFrame'>\n",
      "Int64Index: 39717 entries, 1077501 to 87023\n",
      "Data columns (total 16 columns):\n",
      " #   Column                Non-Null Count  Dtype \n",
      "---  ------                --------------  ----- \n",
      " 0   loan_amnt             39717 non-null  int64 \n",
      " 1   term                  39717 non-null  object\n",
      " 2   int_rate              39717 non-null  object\n",
      " 3   grade                 39717 non-null  object\n",
      " 4   sub_grade             39717 non-null  object\n",
      " 5   home_ownership        39717 non-null  object\n",
      " 6   verification_status   39717 non-null  object\n",
      " 7   issue_d               39717 non-null  object\n",
      " 8   loan_status           39717 non-null  object\n",
      " 9   purpose               39717 non-null  object\n",
      " 10  addr_state            39717 non-null  object\n",
      " 11  earliest_cr_line      39717 non-null  object\n",
      " 12  revol_util            39667 non-null  object\n",
      " 13  last_pymnt_d          39646 non-null  object\n",
      " 14  last_credit_pull_d    39715 non-null  object\n",
      " 15  pub_rec_bankruptcies  39717 non-null  object\n",
      "dtypes: int64(1), object(15)\n",
      "memory usage: 5.2+ MB\n"
     ]
    }
   ],
   "source": [
    "cat_data.info()"
   ]
  },
  {
   "cell_type": "code",
   "execution_count": null,
   "id": "1dbeaed6",
   "metadata": {},
   "outputs": [],
   "source": []
  },
  {
   "cell_type": "markdown",
   "id": "4218221a",
   "metadata": {},
   "source": [
    "## Lets Analyze the data and find the outliers and see if can derive new variables."
   ]
  },
  {
   "cell_type": "code",
   "execution_count": 51,
   "id": "4db33e72",
   "metadata": {
    "scrolled": false
   },
   "outputs": [
    {
     "data": {
      "text/plain": [
       "<AxesSubplot:xlabel='loan_amnt'>"
      ]
     },
     "execution_count": 51,
     "metadata": {},
     "output_type": "execute_result"
    },
    {
     "data": {
      "image/png": "[encoded data removed]",
      "text/plain": [
       "<Figure size 720x504 with 1 Axes>"
      ]
     },
     "metadata": {
      "needs_background": "light"
     },
     "output_type": "display_data"
    }
   ],
   "source": [
    "plt.figure(figsize=(10,7))\n",
    "sns.boxplot(x=data.loan_amnt)"
   ]
  },
  {
   "cell_type": "code",
   "execution_count": 52,
   "id": "63a5a4e7",
   "metadata": {
    "scrolled": true
   },
   "outputs": [
    {
     "data": {
      "text/plain": [
       "<AxesSubplot:xlabel='term', ylabel='Count'>"
      ]
     },
     "execution_count": 52,
     "metadata": {},
     "output_type": "execute_result"
    },
    {
     "data": {
      "image/png": "[encoded data removed]",
      "text/plain": [
       "<Figure size 432x288 with 1 Axes>"
      ]
     },
     "metadata": {
      "needs_background": "light"
     },
     "output_type": "display_data"
    }
   ],
   "source": [
    "sns.histplot(x=cat_data.term)"
   ]
  },
  {
   "cell_type": "code",
   "execution_count": 53,
   "id": "5d79225d",
   "metadata": {
    "scrolled": false
   },
   "outputs": [
    {
     "data": {
      "text/plain": [
       "<AxesSubplot:xlabel='loan_status', ylabel='Count'>"
      ]
     },
     "execution_count": 53,
     "metadata": {},
     "output_type": "execute_result"
    },
    {
     "data": {
      "image/png": "[encoded data removed]",
      "text/plain": [
       "<Figure size 720x504 with 1 Axes>"
      ]
     },
     "metadata": {
      "needs_background": "light"
     },
     "output_type": "display_data"
    }
   ],
   "source": [
    "plt.figure(figsize=(10,7))\n",
    "sns.histplot(cat_data.loan_status)"
   ]
  },
  {
   "cell_type": "code",
   "execution_count": 54,
   "id": "3cf7a1f0",
   "metadata": {
    "scrolled": false
   },
   "outputs": [
    {
     "data": {
      "text/plain": [
       "Fully Paid     32950\n",
       "Charged Off     5627\n",
       "Current         1140\n",
       "Name: loan_status, dtype: int64"
      ]
     },
     "execution_count": 54,
     "metadata": {},
     "output_type": "execute_result"
    }
   ],
   "source": [
    "#Percentage of charged off\n",
    "cat_data.loan_status.value_counts()#['Charged off']"
   ]
  },
  {
   "cell_type": "code",
   "execution_count": 55,
   "id": "039c2dce",
   "metadata": {},
   "outputs": [
    {
     "data": {
      "text/plain": [
       "<AxesSubplot:xlabel='term', ylabel='Count'>"
      ]
     },
     "execution_count": 55,
     "metadata": {},
     "output_type": "execute_result"
    },
    {
     "data": {
      "image/png": "[encoded data removed]",
      "text/plain": [
       "<Figure size 720x504 with 1 Axes>"
      ]
     },
     "metadata": {
      "needs_background": "light"
     },
     "output_type": "display_data"
    }
   ],
   "source": [
    "plt.figure(figsize=(10,7))\n",
    "sns.histplot(x=cat_data.term, hue=cat_data.loan_status, multiple='dodge')"
   ]
  },
  {
   "cell_type": "code",
   "execution_count": 56,
   "id": "6bdb37b3",
   "metadata": {},
   "outputs": [],
   "source": [
    "# group by term months and give check the percentage of charge off in each term"
   ]
  },
  {
   "cell_type": "code",
   "execution_count": 57,
   "id": "75e35238",
   "metadata": {
    "scrolled": false
   },
   "outputs": [
    {
     "data": {
      "text/plain": [
       "<AxesSubplot:xlabel='loan_status', ylabel='int_rate'>"
      ]
     },
     "execution_count": 57,
     "metadata": {},
     "output_type": "execute_result"
    },
    {
     "data": {
      "image/png": "[encoded data removed]",
      "text/plain": [
       "<Figure size 720x504 with 1 Axes>"
      ]
     },
     "metadata": {
      "needs_background": "light"
     },
     "output_type": "display_data"
    }
   ],
   "source": [
    "cat_data.int_rate.map(lambda x : float(x.strip('%')))\n",
    "plt.figure(figsize=(10,7))\n",
    "sns.barplot(y=cat_data.int_rate.map(lambda x : float(x.strip('%'))),x=cat_data.loan_status)"
   ]
  },
  {
   "cell_type": "code",
   "execution_count": 58,
   "id": "2843c982",
   "metadata": {},
   "outputs": [
    {
     "data": {
      "text/plain": [
       "<AxesSubplot:xlabel='grade', ylabel='Count'>"
      ]
     },
     "execution_count": 58,
     "metadata": {},
     "output_type": "execute_result"
    },
    {
     "data": {
      "image/png": "[encoded data removed]",
      "text/plain": [
       "<Figure size 720x504 with 1 Axes>"
      ]
     },
     "metadata": {
      "needs_background": "light"
     },
     "output_type": "display_data"
    }
   ],
   "source": [
    "plt.figure(figsize=(10,7))\n",
    "sns.histplot(x=cat_data.grade, kde=True, hue=data.loan_status, multiple='dodge')"
   ]
  },
  {
   "cell_type": "code",
   "execution_count": 59,
   "id": "a60ebe65",
   "metadata": {},
   "outputs": [
    {
     "data": {
      "text/plain": [
       "<AxesSubplot:xlabel='sub_grade', ylabel='Count'>"
      ]
     },
     "execution_count": 59,
     "metadata": {},
     "output_type": "execute_result"
    },
    {
     "data": {
      "image/png": "[encoded data removed]",
      "text/plain": [
       "<Figure size 1080x504 with 1 Axes>"
      ]
     },
     "metadata": {
      "needs_background": "light"
     },
     "output_type": "display_data"
    }
   ],
   "source": [
    "plt.figure(figsize=(15,7))\n",
    "sns.histplot(x=cat_data.sub_grade, kde=True, hue=cat_data.loan_status, multiple='dodge')"
   ]
  },
  {
   "cell_type": "code",
   "execution_count": 60,
   "id": "a5917a5c",
   "metadata": {},
   "outputs": [
    {
     "data": {
      "text/plain": [
       "<AxesSubplot:xlabel='home_ownership', ylabel='Count'>"
      ]
     },
     "execution_count": 60,
     "metadata": {},
     "output_type": "execute_result"
    },
    {
     "data": {
      "image/png": "[encoded data removed]",
      "text/plain": [
       "<Figure size 720x504 with 1 Axes>"
      ]
     },
     "metadata": {
      "needs_background": "light"
     },
     "output_type": "display_data"
    }
   ],
   "source": [
    "plt.figure(figsize=(10,7))\n",
    "sns.histplot(x=cat_data.home_ownership, kde=True, hue=cat_data.loan_status, multiple='dodge')"
   ]
  },
  {
   "cell_type": "code",
   "execution_count": 63,
   "id": "c34d234b",
   "metadata": {
    "scrolled": false
   },
   "outputs": [
    {
     "data": {
      "image/png": "[encoded data removed]",
      "text/plain": [
       "<Figure size 1080x504 with 1 Axes>"
      ]
     },
     "metadata": {
      "needs_background": "light"
     },
     "output_type": "display_data"
    }
   ],
   "source": [
    "plt.figure(figsize=(15,7))\n",
    "plot = sns.histplot(cat_data.purpose)\n",
    "plt.setp(plot.get_xticklabels(), rotation=90)\n",
    "plt.show()"
   ]
  },
  {
   "cell_type": "code",
   "execution_count": 77,
   "id": "99bac52b",
   "metadata": {},
   "outputs": [
    {
     "data": {
      "image/png": "[encoded data removed]",
      "text/plain": [
       "<Figure size 1080x720 with 1 Axes>"
      ]
     },
     "metadata": {
      "needs_background": "light"
     },
     "output_type": "display_data"
    }
   ],
   "source": [
    "plt.figure(figsize=(15,10))\n",
    "plot = sns.histplot(x=cat_data.purpose, kde=True, hue=cat_data.loan_status, multiple='dodge')\n",
    "plt.setp(plot.get_xticklabels(), rotation=90)\n",
    "plt.show()"
   ]
  },
  {
   "cell_type": "code",
   "execution_count": 73,
   "id": "faf05d88",
   "metadata": {
    "scrolled": false
   },
   "outputs": [
    {
     "data": {
      "text/plain": [
       "purpose             loan_status\n",
       "car                 Fully Paid      1339\n",
       "                    Charged Off      160\n",
       "                    Current           50\n",
       "credit_card         Fully Paid      4485\n",
       "                    Charged Off      542\n",
       "                    Current          103\n",
       "debt_consolidation  Fully Paid     15288\n",
       "                    Charged Off     2767\n",
       "                    Current          586\n",
       "educational         Fully Paid       269\n",
       "                    Charged Off       56\n",
       "home_improvement    Fully Paid      2528\n",
       "                    Charged Off      347\n",
       "                    Current          101\n",
       "house               Fully Paid       308\n",
       "                    Charged Off       59\n",
       "                    Current           14\n",
       "major_purchase      Fully Paid      1928\n",
       "                    Charged Off      222\n",
       "                    Current           37\n",
       "medical             Fully Paid       575\n",
       "                    Charged Off      106\n",
       "                    Current           12\n",
       "moving              Fully Paid       484\n",
       "                    Charged Off       92\n",
       "                    Current            7\n",
       "other               Fully Paid      3232\n",
       "                    Charged Off      633\n",
       "                    Current          128\n",
       "renewable_energy    Fully Paid        83\n",
       "                    Charged Off       19\n",
       "                    Current            1\n",
       "small_business      Fully Paid      1279\n",
       "                    Charged Off      475\n",
       "                    Current           74\n",
       "vacation            Fully Paid       322\n",
       "                    Charged Off       53\n",
       "                    Current            6\n",
       "wedding             Fully Paid       830\n",
       "                    Charged Off       96\n",
       "                    Current           21\n",
       "Name: loan_status, dtype: int64"
      ]
     },
     "execution_count": 73,
     "metadata": {},
     "output_type": "execute_result"
    }
   ],
   "source": [
    "cat_data.groupby(['purpose'])['loan_status'].value_counts()"
   ]
  },
  {
   "cell_type": "code",
   "execution_count": null,
   "id": "374b6c98",
   "metadata": {},
   "outputs": [],
   "source": []
  },
  {
   "cell_type": "code",
   "execution_count": null,
   "id": "a6197420",
   "metadata": {},
   "outputs": [],
   "source": [
    "plt.figure(figsize=(15,7))\n",
    "sns.histplot(x=data.loan_amnt, bins=20, kde=True, hue=data.loan_status, multiple='stack')"
   ]
  },
  {
   "cell_type": "code",
   "execution_count": null,
   "id": "f965caed",
   "metadata": {},
   "outputs": [],
   "source": []
  },
  {
   "cell_type": "code",
   "execution_count": null,
   "id": "fa5c13d0",
   "metadata": {},
   "outputs": [],
   "source": [
    "data.chargeoff_within_12_mths.value_counts()"
   ]
  },
  {
   "cell_type": "code",
   "execution_count": null,
   "id": "d226b71e",
   "metadata": {},
   "outputs": [],
   "source": []
  },
  {
   "cell_type": "code",
   "execution_count": null,
   "id": "10433834",
   "metadata": {},
   "outputs": [],
   "source": []
  },
  {
   "cell_type": "code",
   "execution_count": null,
   "id": "4b152bd7",
   "metadata": {},
   "outputs": [],
   "source": []
  }
 ],
 "metadata": {
  "kernelspec": {
   "display_name": "Python 3 (ipykernel)",
   "language": "python",
   "name": "python3"
  },
  "language_info": {
   "codemirror_mode": {
    "name": "ipython",
    "version": 3
   },
   "file_extension": ".py",
   "mimetype": "text/x-python",
   "name": "python",
   "nbconvert_exporter": "python",
   "pygments_lexer": "ipython3",
   "version": "3.9.12"
  }
 },
 "nbformat": 4,
 "nbformat_minor": 5
}
